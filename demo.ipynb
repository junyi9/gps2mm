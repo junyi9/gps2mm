{
 "cells": [
  {
   "cell_type": "code",
   "execution_count": 1,
   "metadata": {},
   "outputs": [],
   "source": [
    "import pandas as pd\n",
    "import numpy as np\n",
    "from pyproj import Geod\n",
    "# Create a Geod object for WGS84 ellipsoid\n",
    "geod = Geod(ellps=\"WGS84\")"
   ]
  },
  {
   "cell_type": "code",
   "execution_count": 2,
   "metadata": {},
   "outputs": [
    {
     "name": "stdout",
     "output_type": "stream",
     "text": [
      "Milemarker: 73.01\n"
     ]
    }
   ],
   "source": [
    "mm_locations = pd.read_csv(\"calc_mm_locations\", sep=\",\")\n",
    "def gps2mm(lon, lat, mm_locations=mm_locations, geod=geod):\n",
    "    mm_locations[\"distance\"] = mm_locations.apply(lambda x: geod.inv(lon, lat, x[\"longitude\"], x[\"latitude\"])[2], axis=1)\n",
    "    # find the minimum distance and report the mm location\n",
    "    min_distance = mm_locations[\"distance\"].min()\n",
    "    milemarker = mm_locations[mm_locations[\"distance\"] == min_distance].mm.values[0]\n",
    "    return milemarker\n",
    "\n",
    "# Example usage\n",
    "lon  = -86.494941\n",
    "lat = 35.901450\n",
    "milemarker = gps2mm(lon, lat)\n",
    "print(f\"Milemarker: {milemarker}\")"
   ]
  },
  {
   "cell_type": "code",
   "execution_count": 3,
   "metadata": {},
   "outputs": [
    {
     "name": "stdout",
     "output_type": "stream",
     "text": [
      "Milemarker: 73.01\n"
     ]
    }
   ],
   "source": [
    "from gps2mm import gps2mm\n",
    "milemarker = gps2mm(lon, lat)\n",
    "print(f\"Milemarker: {milemarker}\")"
   ]
  },
  {
   "cell_type": "code",
   "execution_count": null,
   "metadata": {},
   "outputs": [],
   "source": []
  }
 ],
 "metadata": {
  "kernelspec": {
   "display_name": "gps2mm",
   "language": "python",
   "name": "python3"
  },
  "language_info": {
   "codemirror_mode": {
    "name": "ipython",
    "version": 3
   },
   "file_extension": ".py",
   "mimetype": "text/x-python",
   "name": "python",
   "nbconvert_exporter": "python",
   "pygments_lexer": "ipython3",
   "version": "3.10.16"
  }
 },
 "nbformat": 4,
 "nbformat_minor": 2
}
